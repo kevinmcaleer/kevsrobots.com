{
 "cells": [
  {
   "cell_type": "markdown",
   "id": "af62d837-0068-41a6-b7de-112c6e51aeea",
   "metadata": {},
   "source": [
    "# Search Log analyser\n",
    "Provides top 10 search results\n",
    "\n",
    "## TODO:\n",
    "\n",
    "1. [x] show top 20 results\n",
    "2. [ ] add top 10 by month\n",
    "3. [x] add profanity check \n",
    "4. [ ] by year"
   ]
  },
  {
   "cell_type": "code",
   "execution_count": 288,
   "id": "7054217a-7661-4ca1-adf9-357b722bc81d",
   "metadata": {},
   "outputs": [],
   "source": [
    "import pandas as pd\n",
    "import numpy as np\n",
    "\n",
    "search_logs = 'search-logs.log'"
   ]
  },
  {
   "cell_type": "code",
   "execution_count": 289,
   "id": "0903e147-9f3c-4e5d-9277-da58415b9521",
   "metadata": {},
   "outputs": [],
   "source": [
    "with open(search_logs, 'r') as file:\n",
    "    split_list = [line.strip() for line in file.readlines()]\n",
    "\n",
    "# Create a DataFrame\n",
    "df = pd.DataFrame(split_list, columns=[\"log_entry\"])\n"
   ]
  },
  {
   "cell_type": "code",
   "execution_count": 290,
   "id": "d42c890a-c4bc-4447-b9e1-98d3bd3356a3",
   "metadata": {},
   "outputs": [],
   "source": [
    "# Split each line by the colon \":\"\n",
    "df_split = df[\"log_entry\"].str.split(\":\", expand=True)\n",
    "\n",
    "# Display the first few rows\n",
    "# df_split.head()"
   ]
  },
  {
   "cell_type": "code",
   "execution_count": 291,
   "id": "8ad927aa-4f02-4d63-86e4-af60bc92fa22",
   "metadata": {},
   "outputs": [],
   "source": [
    "df = df_split.drop(columns=[0,1,3,4,5,7,8,9])\n",
    "# df.head()"
   ]
  },
  {
   "cell_type": "code",
   "execution_count": 292,
   "id": "215ad564-006f-4edc-a820-fcbd4d08f77b",
   "metadata": {},
   "outputs": [],
   "source": [
    "df.rename(columns={2:'date',6:'term'}, inplace=True)\n",
    "# df.head()"
   ]
  },
  {
   "cell_type": "code",
   "execution_count": 293,
   "id": "129d6cc0-d6b5-4e96-8efd-1aa54abbdfd0",
   "metadata": {},
   "outputs": [],
   "source": [
    "log_data = df\n",
    "# log_data.head()"
   ]
  },
  {
   "cell_type": "code",
   "execution_count": 294,
   "id": "338916bf-a6dd-4cf9-a1a2-5636b538ab5c",
   "metadata": {},
   "outputs": [
    {
     "name": "stdout",
     "output_type": "stream",
     "text": [
      "date    object\n",
      "term    object\n",
      "dtype: object\n"
     ]
    }
   ],
   "source": [
    "print(log_data.dtypes)\n",
    "#log_data['date'] = pd.to_datetime(log_data['date'])\n",
    "\n",
    "# log_data.head(10)"
   ]
  },
  {
   "cell_type": "code",
   "execution_count": 295,
   "id": "cb9117d6-550c-452a-b965-110a54d321d6",
   "metadata": {},
   "outputs": [
    {
     "data": {
      "text/html": [
       "<div>\n",
       "<style scoped>\n",
       "    .dataframe tbody tr th:only-of-type {\n",
       "        vertical-align: middle;\n",
       "    }\n",
       "\n",
       "    .dataframe tbody tr th {\n",
       "        vertical-align: top;\n",
       "    }\n",
       "\n",
       "    .dataframe thead th {\n",
       "        text-align: right;\n",
       "    }\n",
       "</style>\n",
       "<table border=\"1\" class=\"dataframe\">\n",
       "  <thead>\n",
       "    <tr style=\"text-align: right;\">\n",
       "      <th></th>\n",
       "      <th>date</th>\n",
       "      <th>term</th>\n",
       "    </tr>\n",
       "  </thead>\n",
       "  <tbody>\n",
       "    <tr>\n",
       "      <th>0</th>\n",
       "      <td>2024-01-07T13</td>\n",
       "      <td>PYTHON</td>\n",
       "    </tr>\n",
       "    <tr>\n",
       "      <th>1</th>\n",
       "      <td>2024-01-07T13</td>\n",
       "      <td>PYTHON</td>\n",
       "    </tr>\n",
       "    <tr>\n",
       "      <th>2</th>\n",
       "      <td>2024-01-07T13</td>\n",
       "      <td>ESP32</td>\n",
       "    </tr>\n",
       "    <tr>\n",
       "      <th>3</th>\n",
       "      <td>2024-01-07T13</td>\n",
       "      <td>ESP32</td>\n",
       "    </tr>\n",
       "    <tr>\n",
       "      <th>4</th>\n",
       "      <td>2024-01-07T13</td>\n",
       "      <td>ESP32</td>\n",
       "    </tr>\n",
       "  </tbody>\n",
       "</table>\n",
       "</div>"
      ],
      "text/plain": [
       "            date    term\n",
       "0  2024-01-07T13  PYTHON\n",
       "1  2024-01-07T13  PYTHON\n",
       "2  2024-01-07T13   ESP32\n",
       "3  2024-01-07T13   ESP32\n",
       "4  2024-01-07T13   ESP32"
      ]
     },
     "execution_count": 295,
     "metadata": {},
     "output_type": "execute_result"
    }
   ],
   "source": [
    "# Clean up data\n",
    "log_data['term'] = log_data['term'].str.strip()\n",
    "log_data['term'] = log_data['term'].str.upper()\n",
    "log_data['term'] = log_data['term'].replace('\"','').replace(\"'\",\"\")\n",
    "\n",
    "# Remove null and empty and quote makrs\n",
    "\n",
    "log_data.head()\n",
    "\n",
    "\n",
    "\n"
   ]
  },
  {
   "cell_type": "code",
   "execution_count": 296,
   "id": "eb328235-0e73-4302-9666-e1efac367726",
   "metadata": {},
   "outputs": [],
   "source": [
    "\n",
    "log_data = log_data[~log_data['term'].str.contains('NULL',case=False,na=False)]\n",
    "log_data = log_data[~log_data['term'].str.contains('\"\"',case=False,na=False)]"
   ]
  },
  {
   "cell_type": "code",
   "execution_count": 297,
   "id": "c2ae133d-a04e-497b-a628-d3ae8bf154ff",
   "metadata": {},
   "outputs": [
    {
     "name": "stdout",
     "output_type": "stream",
     "text": [
      "                             term  count\n",
      "0                                    154\n",
      "1     ! PIP INSTALL NUMPY, PANDAS      5\n",
      "2                     \"BURGERBOT\"      1\n",
      "3                           \"CAR\"      2\n",
      "4                        \"EVENTS\"      1\n",
      "...                           ...    ...\n",
      "1713                         ЗМЕЯ      1\n",
      "1714                          משד      1\n",
      "1715                          رشس      1\n",
      "1716                    سةشقس ؤشق      1\n",
      "1717                      شقيعهىخ      1\n",
      "\n",
      "[1718 rows x 2 columns]\n"
     ]
    }
   ],
   "source": [
    "term_counts = log_data.groupby('term').size().reset_index(name='count')\n",
    "\n",
    "# Display the result\n",
    "print(term_counts)\n"
   ]
  },
  {
   "cell_type": "code",
   "execution_count": 298,
   "id": "fa7ef2cc-0d2b-494d-be96-04f6caa652f3",
   "metadata": {},
   "outputs": [
    {
     "name": "stdout",
     "output_type": "stream",
     "text": [
      "         term  count\n",
      "1311      ROS    399\n",
      "343    DOCKER    175\n",
      "0                154\n",
      "1163   PYTHON    142\n",
      "921    OLLAMA    127\n",
      "...       ...    ...\n",
      "681      JOIN      1\n",
      "680      JEYK      1\n",
      "677   JENKINS      1\n",
      "674      JEKY      1\n",
      "1717  شقيعهىخ      1\n",
      "\n",
      "[1718 rows x 2 columns]\n"
     ]
    }
   ],
   "source": [
    "# Sort by the 'count' column in descending order\n",
    "term_counts_sorted = term_counts.sort_values(by='count', ascending=False)\n",
    "\n",
    "# Display the sorted result\n",
    "print(term_counts_sorted)"
   ]
  },
  {
   "cell_type": "code",
   "execution_count": 204,
   "id": "84afd13f-b47e-43d1-9a70-f395e1bc9137",
   "metadata": {},
   "outputs": [
    {
     "data": {
      "text/html": [
       "<div>\n",
       "<style scoped>\n",
       "    .dataframe tbody tr th:only-of-type {\n",
       "        vertical-align: middle;\n",
       "    }\n",
       "\n",
       "    .dataframe tbody tr th {\n",
       "        vertical-align: top;\n",
       "    }\n",
       "\n",
       "    .dataframe thead th {\n",
       "        text-align: right;\n",
       "    }\n",
       "</style>\n",
       "<table border=\"1\" class=\"dataframe\">\n",
       "  <thead>\n",
       "    <tr style=\"text-align: right;\">\n",
       "      <th></th>\n",
       "      <th>term</th>\n",
       "      <th>count</th>\n",
       "    </tr>\n",
       "  </thead>\n",
       "  <tbody>\n",
       "    <tr>\n",
       "      <th>0</th>\n",
       "      <td>! PIP INSTALL NUMPY, PANDAS</td>\n",
       "      <td>1</td>\n",
       "    </tr>\n",
       "    <tr>\n",
       "      <th>1154</th>\n",
       "      <td>PSP</td>\n",
       "      <td>1</td>\n",
       "    </tr>\n",
       "    <tr>\n",
       "      <th>1152</th>\n",
       "      <td>PROXIMITY</td>\n",
       "      <td>1</td>\n",
       "    </tr>\n",
       "    <tr>\n",
       "      <th>1151</th>\n",
       "      <td>PROTOCOL FIRMATA + CODR ARDUINO</td>\n",
       "      <td>1</td>\n",
       "    </tr>\n",
       "    <tr>\n",
       "      <th>1150</th>\n",
       "      <td>PROBLEMS WITH BRACHIOGRAPH</td>\n",
       "      <td>1</td>\n",
       "    </tr>\n",
       "    <tr>\n",
       "      <th>1149</th>\n",
       "      <td>PRIVATE AI REVOLUTION</td>\n",
       "      <td>1</td>\n",
       "    </tr>\n",
       "    <tr>\n",
       "      <th>1148</th>\n",
       "      <td>PRINTING</td>\n",
       "      <td>1</td>\n",
       "    </tr>\n",
       "    <tr>\n",
       "      <th>1147</th>\n",
       "      <td>PRINTER</td>\n",
       "      <td>1</td>\n",
       "    </tr>\n",
       "    <tr>\n",
       "      <th>1146</th>\n",
       "      <td>PRINTABLE</td>\n",
       "      <td>1</td>\n",
       "    </tr>\n",
       "    <tr>\n",
       "      <th>1145</th>\n",
       "      <td>PRINT</td>\n",
       "      <td>1</td>\n",
       "    </tr>\n",
       "    <tr>\n",
       "      <th>1144</th>\n",
       "      <td>POWERFUL HOME SERVER/HOME LAB</td>\n",
       "      <td>1</td>\n",
       "    </tr>\n",
       "    <tr>\n",
       "      <th>1143</th>\n",
       "      <td>POWER SWITCHING TRANSISTOR</td>\n",
       "      <td>1</td>\n",
       "    </tr>\n",
       "    <tr>\n",
       "      <th>1142</th>\n",
       "      <td>POWER RASPBERRY</td>\n",
       "      <td>1</td>\n",
       "    </tr>\n",
       "    <tr>\n",
       "      <th>1141</th>\n",
       "      <td>POV</td>\n",
       "      <td>1</td>\n",
       "    </tr>\n",
       "    <tr>\n",
       "      <th>1140</th>\n",
       "      <td>POTION BOTTLES</td>\n",
       "      <td>1</td>\n",
       "    </tr>\n",
       "    <tr>\n",
       "      <th>1139</th>\n",
       "      <td>POTATO BATTERY</td>\n",
       "      <td>1</td>\n",
       "    </tr>\n",
       "    <tr>\n",
       "      <th>1138</th>\n",
       "      <td>POTATO BATTERIES</td>\n",
       "      <td>1</td>\n",
       "    </tr>\n",
       "    <tr>\n",
       "      <th>1137</th>\n",
       "      <td>POTATO</td>\n",
       "      <td>1</td>\n",
       "    </tr>\n",
       "    <tr>\n",
       "      <th>1136</th>\n",
       "      <td>POSTRES</td>\n",
       "      <td>1</td>\n",
       "    </tr>\n",
       "    <tr>\n",
       "      <th>1135</th>\n",
       "      <td>POSTGRES</td>\n",
       "      <td>1</td>\n",
       "    </tr>\n",
       "  </tbody>\n",
       "</table>\n",
       "</div>"
      ],
      "text/plain": [
       "                                 term  count\n",
       "0         ! PIP INSTALL NUMPY, PANDAS      1\n",
       "1154                              PSP      1\n",
       "1152                        PROXIMITY      1\n",
       "1151  PROTOCOL FIRMATA + CODR ARDUINO      1\n",
       "1150       PROBLEMS WITH BRACHIOGRAPH      1\n",
       "1149            PRIVATE AI REVOLUTION      1\n",
       "1148                         PRINTING      1\n",
       "1147                          PRINTER      1\n",
       "1146                        PRINTABLE      1\n",
       "1145                            PRINT      1\n",
       "1144    POWERFUL HOME SERVER/HOME LAB      1\n",
       "1143       POWER SWITCHING TRANSISTOR      1\n",
       "1142                  POWER RASPBERRY      1\n",
       "1141                              POV      1\n",
       "1140                   POTION BOTTLES      1\n",
       "1139                   POTATO BATTERY      1\n",
       "1138                 POTATO BATTERIES      1\n",
       "1137                           POTATO      1\n",
       "1136                          POSTRES      1\n",
       "1135                         POSTGRES      1"
      ]
     },
     "execution_count": 204,
     "metadata": {},
     "output_type": "execute_result"
    }
   ],
   "source": [
    "df = term_counts_sorted[~term_counts_sorted['term'].str.strip().eq('')]\n",
    "df = df[~df['term'].str.contains('NULL',case=False,na=False)]\n",
    "\n",
    "df.head(20)"
   ]
  },
  {
   "cell_type": "code",
   "execution_count": 205,
   "id": "fa7950e4-957c-4c04-80b3-e4010dc22021",
   "metadata": {},
   "outputs": [
    {
     "name": "stdout",
     "output_type": "stream",
     "text": [
      "Empty DataFrame\n",
      "Columns: [term, count, lower_term, is_profane]\n",
      "Index: []\n"
     ]
    }
   ],
   "source": [
    "# Check for profanity\n",
    "with open(\"profanity.txt\", \"r\", encoding=\"utf-8\") as f:\n",
    "    profane_words = [line.strip().lower() for line in f if line.strip()]\n",
    "\n",
    "# Convert terms to lowercase\n",
    "log_data[\"lower_term\"] = log_data[\"term\"].str.lower()\n",
    "\n",
    "# Create a boolean column indicating if the term is in the list of profane words\n",
    "log_data[\"is_profane\"] = log_data[\"lower_term\"].isin(profane_words)\n",
    "\n",
    "filtered_df = log_data[log_data[\"is_profane\"] == True]\n",
    "print(filtered_df)\n",
    "\n",
    "#print(log_data)\n"
   ]
  },
  {
   "cell_type": "code",
   "execution_count": 193,
   "id": "32c48027-ef76-493d-8209-d0bcffc9ae45",
   "metadata": {},
   "outputs": [
    {
     "ename": "KeyError",
     "evalue": "'date'",
     "output_type": "error",
     "traceback": [
      "\u001b[0;31m---------------------------------------------------------------------------\u001b[0m",
      "\u001b[0;31mKeyError\u001b[0m                                  Traceback (most recent call last)",
      "File \u001b[0;32m~/Python/object_detection/venv/lib/python3.10/site-packages/pandas/core/indexes/base.py:3805\u001b[0m, in \u001b[0;36mIndex.get_loc\u001b[0;34m(self, key)\u001b[0m\n\u001b[1;32m   3804\u001b[0m \u001b[38;5;28;01mtry\u001b[39;00m:\n\u001b[0;32m-> 3805\u001b[0m     \u001b[38;5;28;01mreturn\u001b[39;00m \u001b[38;5;28;43mself\u001b[39;49m\u001b[38;5;241;43m.\u001b[39;49m\u001b[43m_engine\u001b[49m\u001b[38;5;241;43m.\u001b[39;49m\u001b[43mget_loc\u001b[49m\u001b[43m(\u001b[49m\u001b[43mcasted_key\u001b[49m\u001b[43m)\u001b[49m\n\u001b[1;32m   3806\u001b[0m \u001b[38;5;28;01mexcept\u001b[39;00m \u001b[38;5;167;01mKeyError\u001b[39;00m \u001b[38;5;28;01mas\u001b[39;00m err:\n",
      "File \u001b[0;32mindex.pyx:167\u001b[0m, in \u001b[0;36mpandas._libs.index.IndexEngine.get_loc\u001b[0;34m()\u001b[0m\n",
      "File \u001b[0;32mindex.pyx:196\u001b[0m, in \u001b[0;36mpandas._libs.index.IndexEngine.get_loc\u001b[0;34m()\u001b[0m\n",
      "File \u001b[0;32mpandas/_libs/hashtable_class_helper.pxi:7081\u001b[0m, in \u001b[0;36mpandas._libs.hashtable.PyObjectHashTable.get_item\u001b[0;34m()\u001b[0m\n",
      "File \u001b[0;32mpandas/_libs/hashtable_class_helper.pxi:7089\u001b[0m, in \u001b[0;36mpandas._libs.hashtable.PyObjectHashTable.get_item\u001b[0;34m()\u001b[0m\n",
      "\u001b[0;31mKeyError\u001b[0m: 'date'",
      "\nThe above exception was the direct cause of the following exception:\n",
      "\u001b[0;31mKeyError\u001b[0m                                  Traceback (most recent call last)",
      "Cell \u001b[0;32mIn[193], line 2\u001b[0m\n\u001b[1;32m      1\u001b[0m \u001b[38;5;66;03m## Top search Results per month\u001b[39;00m\n\u001b[0;32m----> 2\u001b[0m df[\u001b[38;5;124m'\u001b[39m\u001b[38;5;124mdate\u001b[39m\u001b[38;5;124m'\u001b[39m] \u001b[38;5;241m=\u001b[39m pd\u001b[38;5;241m.\u001b[39mto_datetime(\u001b[43mdf\u001b[49m\u001b[43m[\u001b[49m\u001b[38;5;124;43m\"\u001b[39;49m\u001b[38;5;124;43mdate\u001b[39;49m\u001b[38;5;124;43m\"\u001b[39;49m\u001b[43m]\u001b[49m)\n\u001b[1;32m      4\u001b[0m df[\u001b[38;5;124m\"\u001b[39m\u001b[38;5;124myear_month\u001b[39m\u001b[38;5;124m\"\u001b[39m] \u001b[38;5;241m=\u001b[39m df[\u001b[38;5;124m\"\u001b[39m\u001b[38;5;124mdate\u001b[39m\u001b[38;5;124m\"\u001b[39m]\u001b[38;5;241m.\u001b[39mdt\u001b[38;5;241m.\u001b[39mto_period(\u001b[38;5;124m\"\u001b[39m\u001b[38;5;124mM\u001b[39m\u001b[38;5;124m\"\u001b[39m)\n\u001b[1;32m      5\u001b[0m grouped \u001b[38;5;241m=\u001b[39m (\n\u001b[1;32m      6\u001b[0m     df\u001b[38;5;241m.\u001b[39mgroupby([\u001b[38;5;124m\"\u001b[39m\u001b[38;5;124myear_month\u001b[39m\u001b[38;5;124m\"\u001b[39m, \u001b[38;5;124m\"\u001b[39m\u001b[38;5;124mterm\u001b[39m\u001b[38;5;124m\"\u001b[39m])\n\u001b[1;32m      7\u001b[0m       \u001b[38;5;241m.\u001b[39msize()  \u001b[38;5;66;03m# Count occurrences\u001b[39;00m\n\u001b[1;32m      8\u001b[0m       \u001b[38;5;241m.\u001b[39mreset_index(name\u001b[38;5;241m=\u001b[39m\u001b[38;5;124m\"\u001b[39m\u001b[38;5;124mcount\u001b[39m\u001b[38;5;124m\"\u001b[39m)\n\u001b[1;32m      9\u001b[0m )\n",
      "File \u001b[0;32m~/Python/object_detection/venv/lib/python3.10/site-packages/pandas/core/frame.py:4102\u001b[0m, in \u001b[0;36mDataFrame.__getitem__\u001b[0;34m(self, key)\u001b[0m\n\u001b[1;32m   4100\u001b[0m \u001b[38;5;28;01mif\u001b[39;00m \u001b[38;5;28mself\u001b[39m\u001b[38;5;241m.\u001b[39mcolumns\u001b[38;5;241m.\u001b[39mnlevels \u001b[38;5;241m>\u001b[39m \u001b[38;5;241m1\u001b[39m:\n\u001b[1;32m   4101\u001b[0m     \u001b[38;5;28;01mreturn\u001b[39;00m \u001b[38;5;28mself\u001b[39m\u001b[38;5;241m.\u001b[39m_getitem_multilevel(key)\n\u001b[0;32m-> 4102\u001b[0m indexer \u001b[38;5;241m=\u001b[39m \u001b[38;5;28;43mself\u001b[39;49m\u001b[38;5;241;43m.\u001b[39;49m\u001b[43mcolumns\u001b[49m\u001b[38;5;241;43m.\u001b[39;49m\u001b[43mget_loc\u001b[49m\u001b[43m(\u001b[49m\u001b[43mkey\u001b[49m\u001b[43m)\u001b[49m\n\u001b[1;32m   4103\u001b[0m \u001b[38;5;28;01mif\u001b[39;00m is_integer(indexer):\n\u001b[1;32m   4104\u001b[0m     indexer \u001b[38;5;241m=\u001b[39m [indexer]\n",
      "File \u001b[0;32m~/Python/object_detection/venv/lib/python3.10/site-packages/pandas/core/indexes/base.py:3812\u001b[0m, in \u001b[0;36mIndex.get_loc\u001b[0;34m(self, key)\u001b[0m\n\u001b[1;32m   3807\u001b[0m     \u001b[38;5;28;01mif\u001b[39;00m \u001b[38;5;28misinstance\u001b[39m(casted_key, \u001b[38;5;28mslice\u001b[39m) \u001b[38;5;129;01mor\u001b[39;00m (\n\u001b[1;32m   3808\u001b[0m         \u001b[38;5;28misinstance\u001b[39m(casted_key, abc\u001b[38;5;241m.\u001b[39mIterable)\n\u001b[1;32m   3809\u001b[0m         \u001b[38;5;129;01mand\u001b[39;00m \u001b[38;5;28many\u001b[39m(\u001b[38;5;28misinstance\u001b[39m(x, \u001b[38;5;28mslice\u001b[39m) \u001b[38;5;28;01mfor\u001b[39;00m x \u001b[38;5;129;01min\u001b[39;00m casted_key)\n\u001b[1;32m   3810\u001b[0m     ):\n\u001b[1;32m   3811\u001b[0m         \u001b[38;5;28;01mraise\u001b[39;00m InvalidIndexError(key)\n\u001b[0;32m-> 3812\u001b[0m     \u001b[38;5;28;01mraise\u001b[39;00m \u001b[38;5;167;01mKeyError\u001b[39;00m(key) \u001b[38;5;28;01mfrom\u001b[39;00m \u001b[38;5;21;01merr\u001b[39;00m\n\u001b[1;32m   3813\u001b[0m \u001b[38;5;28;01mexcept\u001b[39;00m \u001b[38;5;167;01mTypeError\u001b[39;00m:\n\u001b[1;32m   3814\u001b[0m     \u001b[38;5;66;03m# If we have a listlike key, _check_indexing_error will raise\u001b[39;00m\n\u001b[1;32m   3815\u001b[0m     \u001b[38;5;66;03m#  InvalidIndexError. Otherwise we fall through and re-raise\u001b[39;00m\n\u001b[1;32m   3816\u001b[0m     \u001b[38;5;66;03m#  the TypeError.\u001b[39;00m\n\u001b[1;32m   3817\u001b[0m     \u001b[38;5;28mself\u001b[39m\u001b[38;5;241m.\u001b[39m_check_indexing_error(key)\n",
      "\u001b[0;31mKeyError\u001b[0m: 'date'"
     ]
    }
   ],
   "source": [
    "## Top search Results per month\n",
    "df['date'] = pd.to_datetime(df[\"date\"])\n",
    "\n",
    "df[\"year_month\"] = df[\"date\"].dt.to_period(\"M\")\n",
    "grouped = (\n",
    "    df.groupby([\"year_month\", \"term\"])\n",
    "      .size()  # Count occurrences\n",
    "      .reset_index(name=\"count\")\n",
    ")\n",
    "print(grouped)\n",
    "grouped_sorted = grouped.sort_values([\"year_month\", \"count\"], ascending=[True, False])\n",
    "top_5_each_month = grouped_sorted.groupby(\"year_month\").head(5)\n",
    "print(top_5_each_month)\n"
   ]
  },
  {
   "cell_type": "code",
   "execution_count": null,
   "id": "0d78ad2a-6691-471d-a1a3-ca3155e079ba",
   "metadata": {},
   "outputs": [],
   "source": []
  },
  {
   "cell_type": "code",
   "execution_count": null,
   "id": "f4c76485-18df-4d83-a96b-eba323aae525",
   "metadata": {},
   "outputs": [],
   "source": []
  }
 ],
 "metadata": {
  "kernelspec": {
   "display_name": "Python (venv)",
   "language": "python",
   "name": "venv"
  },
  "language_info": {
   "codemirror_mode": {
    "name": "ipython",
    "version": 3
   },
   "file_extension": ".py",
   "mimetype": "text/x-python",
   "name": "python",
   "nbconvert_exporter": "python",
   "pygments_lexer": "ipython3",
   "version": "3.10.6"
  }
 },
 "nbformat": 4,
 "nbformat_minor": 5
}
